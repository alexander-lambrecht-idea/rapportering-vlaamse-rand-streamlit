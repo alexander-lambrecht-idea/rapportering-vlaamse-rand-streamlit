{
 "cells": [
  {
   "cell_type": "code",
   "execution_count": 30,
   "metadata": {},
   "outputs": [],
   "source": [
    "import pandas as pd\n",
    "df_sp = pd.read_excel(\"sp2.xlsx\", sheet_name=0)\n",
    "df_dl = pd.read_excel(\"deelproject.xlsx\", sheet_name=0)\n",
    "df_ac = pd.read_excel(\"actie.xlsx\", sheet_name=0)"
   ]
  },
  {
   "cell_type": "code",
   "execution_count": 31,
   "metadata": {},
   "outputs": [
    {
     "data": {
      "text/plain": [
       "Index(['ID', 'Start time', 'Completion time', 'Email', 'Name',\n",
       "       'Last modified time', 'Naam Strategisch project',\n",
       "       'Startdatum strategisch project', 'Einddatum strategisch project',\n",
       "       'Coördinator', 'Startdatum coördinator', 'Einddatum coördinator',\n",
       "       'Opschorting coördinator', 'Toelichting opschorting coördinator',\n",
       "       'Beschrijving', 'Keuze strategische doelstelling',\n",
       "       'Status Strategische doelstelling', 'Toelichting status project',\n",
       "       'Halfjaarlijkse update voortgang',\n",
       "       'Categorie Strategische doelstelling', 'Waarde',\n",
       "       'Coördinerende organisatie',\n",
       "       'Welke actoren zijn initiatiefnemer binnen het strategisch project',\n",
       "       'Grote foto\\n', 'Kleine foto\\n', 'Notities coördinatoren',\n",
       "       'Notities voor het Departement Omgeving'],\n",
       "      dtype='object')"
      ]
     },
     "execution_count": 31,
     "metadata": {},
     "output_type": "execute_result"
    }
   ],
   "source": [
    "df_sp.columns"
   ]
  },
  {
   "cell_type": "code",
   "execution_count": 32,
   "metadata": {},
   "outputs": [],
   "source": [
    "project = \"Leve(n)de Woluwe\"\n",
    "project = df_sp[\"Naam Strategisch project\"].tolist().index(project)\n",
    "\n",
    "strategisch_project = df_sp.loc[project, 'Naam Strategisch project']\n",
    "coordinator = df_sp.loc[project, 'Coördinator']\n",
    "medewerkers = df_sp.loc[project, 'Welke actoren zijn initiatiefnemer binnen het strategisch project']\n",
    "partners = df_sp.loc[project, 'Welke actoren zijn initiatiefnemer binnen het strategisch project']\n",
    "begindatum = df_sp.loc[project, 'Startdatum strategisch project']\n",
    "einddatum = df_sp.loc[project, 'Einddatum strategisch project']\n",
    "\n",
    "beschrijving = \"Lorem ipsum dolor sit amet, consectetur adipiscing elit, sed do eiusmod tempor incididunt ut labore et dolore magna aliqua. Ut enim ad minim veniam, quis nostrud exercitation ullamco laboris nisi ut aliquip ex ea commodo consequat. Duis aute irure dolor in reprehenderit in voluptate velit esse cillum dolore eu fugiat nulla pariatur. Excepteur sint occaecat cupidatat non proident, sunt in culpa qui officia deserunt mollit anim id est laborum.\"\n"
   ]
  },
  {
   "cell_type": "code",
   "execution_count": 33,
   "metadata": {},
   "outputs": [
    {
     "name": "stdout",
     "output_type": "stream",
     "text": [
      "#import \"vlaamse_rand.typ\": conf\n",
      "#show: conf\n",
      "\n",
      "#image(\"images/Picture1.jpg\") \n",
      "#place(right + top, image(\"images/Picture2.jpg\", width: 40%))\n",
      "#text(size: 36pt, weight: 700, [Leve(n)de Woluwe])\n",
      "\n",
      "nan - nan\n",
      "\n",
      "#box(image(\"images/Picture3.png\"), height: 15pt) #text(size: 20pt, fill: orange, weight: 700, [Margot De Groote])\n",
      "#place(left + bottom, image(\"images/Picture4.png\"))\n",
      "#pagebreak()\n",
      "\n",
      "= Leve(n)de Woluwe\n",
      "\n",
      "*Medewerkers:* Provincie Vlaams-Brabant;ANB;VLM;Beersel;Pajottenland & Zennevallei;Pepingen;\n",
      "\n",
      "*Coördinerende organisatie en partners:* Provincie Vlaams-Brabant;ANB;VLM;Beersel;Pajottenland & Zennevallei;Pepingen;\n",
      "#grid(\n",
      "  columns: (2fr, 1fr),\n",
      "  image(\"images/try1.jpg\", height: 30%),\n",
      "  image(\"images/try2.jpg\", fit: \"cover\", height: 30%)\n",
      ")\n",
      "\n",
      "Lorem ipsum dolor sit amet, consectetur adipiscing elit, sed do eiusmod tempor incididunt ut labore et dolore magna aliqua. Ut enim ad minim veniam, quis nostrud exercitation ullamco laboris nisi ut aliquip ex ea commodo consequat. Duis aute irure dolor in reprehenderit in voluptate velit esse cillum dolore eu fugiat nulla pariatur. Excepteur sint occaecat cupidatat non proident, sunt in culpa qui officia deserunt mollit anim id est laborum.\n",
      "\n",
      "#pagebreak()\n",
      "\n",
      "\n"
     ]
    }
   ],
   "source": [
    "text = f\"\"\"#import \"vlaamse_rand.typ\": conf\n",
    "#show: conf\n",
    "\n",
    "#image(\"images/Picture1.jpg\") \n",
    "#place(right + top, image(\"images/Picture2.jpg\", width: 40%))\n",
    "#text(size: 36pt, weight: 700, [{strategisch_project}])\n",
    "\n",
    "{begindatum} - {einddatum}\n",
    "\n",
    "#box(image(\"images/Picture3.png\"), height: 15pt) #text(size: 20pt, fill: orange, weight: 700, [{coordinator}])\n",
    "#place(left + bottom, image(\"images/Picture4.png\"))\n",
    "#pagebreak()\n",
    "\n",
    "= {strategisch_project}\n",
    "\n",
    "*Medewerkers:* {medewerkers}\n",
    "\n",
    "*Coördinerende organisatie en partners:* {partners}\n",
    "#grid(\n",
    "  columns: (2fr, 1fr),\n",
    "  image(\"images/try1.jpg\", height: 30%),\n",
    "  image(\"images/try2.jpg\", fit: \"cover\", height: 30%)\n",
    ")\n",
    "\n",
    "{beschrijving}\n",
    "\n",
    "#pagebreak()\n",
    "\n",
    "\"\"\"\n",
    "print(text)"
   ]
  },
  {
   "cell_type": "code",
   "execution_count": 34,
   "metadata": {},
   "outputs": [
    {
     "data": {
      "text/plain": [
       "Index(['ID', 'Start time', 'Completion time', 'Email', 'Name',\n",
       "       'Last modified time', 'Naam strategisch project', 'Naam deelproject',\n",
       "       'Omschrijving deelproject', 'Startdatum deelproject',\n",
       "       'Einddatum deelproject', 'PROMON-nummer', 'Status deelproject',\n",
       "       'Toelichting status deelproject', 'Halfjaarlijkse update voortgang',\n",
       "       'Categorie deelproject', 'Bos', 'Cultuur en ontspanning',\n",
       "       'Dagrecreatie, met inbegrip van sport', 'Detailhandel',\n",
       "       'Economische activiteiten',\n",
       "       'Gemeenschapsvoorzieningen en openbare nutsvoorzieningen', 'Gemengd',\n",
       "       'Horeca', 'Industrie en bedrijvigheid',\n",
       "       'Kantoorfunctie, dienstverlening en vrije beroepen', 'Kern', 'Landbouw',\n",
       "       'Lijninfrastructuur', 'Militaire functie', 'Natuur', 'Overig',\n",
       "       'Overig groen', 'Sport', 'Verblijfsrecreatie', 'Waarde', 'Wonen',\n",
       "       'Categorisering - gemakkelijker om te programmeren\\n',\n",
       "       'Welke actoren zijn initiatiefnemer binnen het deelproject',\n",
       "       'Welke actoren zijn actief in de stuurgroep?',\n",
       "       'Beeldmateriaal (bestand rechtenvrij opladen)',\n",
       "       'Notities coördinatoren', 'Notities voor het Departement Omgeving'],\n",
       "      dtype='object')"
      ]
     },
     "execution_count": 34,
     "metadata": {},
     "output_type": "execute_result"
    }
   ],
   "source": [
    "df_dl.columns"
   ]
  },
  {
   "cell_type": "code",
   "execution_count": 40,
   "metadata": {},
   "outputs": [
    {
     "data": {
      "text/plain": [
       "Index(['ID', 'Start time', 'Completion time', 'Email', 'Name',\n",
       "       'Last modified time', 'Naam van de actie', 'België', 'Postcode',\n",
       "       'Deze actie linken we aan strategische doelstelling', 'PROMON-nummer',\n",
       "       'Deze actie linken we aan deelproject', 'Omschrijving van de actie',\n",
       "       'Startdatum actie', 'Einddatum actie', 'Status actie',\n",
       "       'Toelichting status actie', 'Categorie actie', 'Bos',\n",
       "       'Cultuur en Ontspanning', 'Dagrecreatie, met inbegrip van sport',\n",
       "       'Detailhandel', 'Economische activiteiten',\n",
       "       'Gemeenschapsvoorzieningen en openbare nutsvoorzieningen', 'Gemengd',\n",
       "       'Horeca', 'Industrie en bedrijvigheid',\n",
       "       'Kantoorfunctie, dienstverlening en vrije beroepen', 'Kern', 'Landbouw',\n",
       "       'Lijnifrastructuur', 'Militaire functie', 'Natuur', 'Overig',\n",
       "       'Overig groen', 'Sport', 'Verblijfsrecreatie ', 'Waarde', 'Wonen',\n",
       "       'Categorie actie - deze vraag is moelijker om te doorlopen, maar is voor redenen van programmeren een stuk eenvoudiger.',\n",
       "       'Heeft u een subsidie gekregen?\\n', 'Partners',\n",
       "       'Hoeveel euro in subsidies heeft u gekregen?\\n',\n",
       "       'Van wie heeft u de subsidie gekregen?\\n',\n",
       "       'Beeldmateriaal (bestand rechtenvrij opladen)',\n",
       "       'Notities coördinatoren', 'Notities voor het Departement Omgeving'],\n",
       "      dtype='object')"
      ]
     },
     "execution_count": 40,
     "metadata": {},
     "output_type": "execute_result"
    }
   ],
   "source": [
    "df_ac.columns"
   ]
  },
  {
   "cell_type": "code",
   "execution_count": 35,
   "metadata": {},
   "outputs": [
    {
     "name": "stdout",
     "output_type": "stream",
     "text": [
      "Zavelbos\n",
      "PARK WOLUWEDAL- SINT-STEVENS-WOLUWE\n",
      "esrg\n",
      "bebossing van het natuurlijke voetbal grasveld via een plantactie\n",
      "Groene inrichting van de aangrenzende percelen met hoogstambomen, hagen, houtkanten,…\n",
      "Recreatieve inrichting met infoborden, zitbanken, …\n",
      "Plaatsen van de speelelementen\n",
      "Afstemmen met betrokken partners\n",
      "Afgraven van de Woluwe-oevers\n",
      "Aanleg van het wandelpad in halfverharding\n",
      "LOKALE GEBIEDSDEAL DROOGTE 2.0\n",
      " inventaris van alle verharde grachten in het Woluwe stroomgebied\n",
      "Ontharding en ingroenen van de Leuvensesteenweg\n",
      "Ontharding en ingroenen van de Boskantweg\n",
      "Ontharding Zwaluwstraat\n",
      "Groene inrichting Heirbaan\n",
      "WANDELKAART - ZAVENTEM\n",
      "natuurgebieden aangelegd\n",
      "verbindingen geïnventariseerd\n",
      "De langste wandeling werd op terrein al aangeduid met bordjes\n"
     ]
    }
   ],
   "source": [
    "df_dl = df_dl[df_dl['Naam strategisch project'].str.contains(strategisch_project, regex=False, na=False, case=False)]\n",
    "for deelproject in range(len(df_dl)):\n",
    "    deelproject_naam = df_dl.loc[deelproject, 'Naam deelproject']\n",
    "    df_ac_temp = df_ac[df_ac['Deze actie linken we aan deelproject'].str.contains(deelproject_naam, regex=False, na=False, case=False)]\n",
    "    print(deelproject_naam)\n",
    "    deelproject_omschrijving = df_dl.loc[deelproject,'Omschrijving deelproject']\n",
    "    deelproject_categorie = df_dl.loc[deelproject,'Categorie deelproject']\n",
    "    \n",
    "    text += f\"\"\"\n",
    "    == {deelproject_naam}\n",
    "    *Categorie deelproject: {deelproject_categorie}*\n",
    "\n",
    "    {deelproject_omschrijving}\n",
    "    \"\"\"\n",
    "    if  range(len(df_ac_temp)) != 0:\n",
    "        text += f\"\"\"\n",
    "        *Acties:*\n",
    "        \"\"\"\n",
    "\n",
    "        for index, row in df_ac_temp.iterrows():\n",
    "            actie_naam = row['Naam van de actie']\n",
    "            print(actie_naam)\n",
    "            text += f\"\"\"\n",
    "            {actie_naam}\n",
    "            \"\"\"\n",
    "\n",
    "    text += f\"\"\"\n",
    "    #pagebreak()\"\"\""
   ]
  },
  {
   "cell_type": "code",
   "execution_count": null,
   "metadata": {},
   "outputs": [],
   "source": []
  },
  {
   "cell_type": "code",
   "execution_count": 36,
   "metadata": {},
   "outputs": [
    {
     "data": {
      "text/plain": [
       "'#import \"vlaamse_rand.typ\": conf\\n#show: conf\\n\\n#image(\"images/Picture1.jpg\") \\n#place(right + top, image(\"images/Picture2.jpg\", width: 40%))\\n#text(size: 36pt, weight: 700, [Leve(n)de Woluwe])\\n\\nnan - nan\\n\\n#box(image(\"images/Picture3.png\"), height: 15pt) #text(size: 20pt, fill: orange, weight: 700, [Margot De Groote])\\n#place(left + bottom, image(\"images/Picture4.png\"))\\n#pagebreak()\\n\\n= Leve(n)de Woluwe\\n\\n*Medewerkers:* Provincie Vlaams-Brabant;ANB;VLM;Beersel;Pajottenland & Zennevallei;Pepingen;\\n\\n*Coördinerende organisatie en partners:* Provincie Vlaams-Brabant;ANB;VLM;Beersel;Pajottenland & Zennevallei;Pepingen;\\n#grid(\\n  columns: (2fr, 1fr),\\n  image(\"images/try1.jpg\", height: 30%),\\n  image(\"images/try2.jpg\", fit: \"cover\", height: 30%)\\n)\\n\\nLorem ipsum dolor sit amet, consectetur adipiscing elit, sed do eiusmod tempor incididunt ut labore et dolore magna aliqua. Ut enim ad minim veniam, quis nostrud exercitation ullamco laboris nisi ut aliquip ex ea commodo consequat. Duis aute irure dolor in reprehenderit in voluptate velit esse cillum dolore eu fugiat nulla pariatur. Excepteur sint occaecat cupidatat non proident, sunt in culpa qui officia deserunt mollit anim id est laborum.\\n\\n#pagebreak()\\n\\n\\n    == Zavelbos\\n    *Categorie deelproject: B: Bomen en Bossen;*\\n\\n    Recreatieve inrichting van het gebied\\n    \\n        *Acties:*\\n        \\n    #pagebreak()\\n    == PARK WOLUWEDAL- SINT-STEVENS-WOLUWE\\n    *Categorie deelproject: Water*\\n\\n    Lorem ipsum dolor sit amet, consectetur adipiscing elit, sed do eiusmod tempor incididunt ut labore\\net dolore magna aliqua. Ut enim ad minim veniam, quis nostrud exercitation ullamco laboris nisi ut\\naliquip ex ea commodo consequat. Duis aute irure dolor in reprehenderit in voluptate velit esse\\ncillum dolore eu fugiat nulla pariatur. Excepteur sint occaecat cupidatat non proident, sunt in culpa\\nqui officia deserunt mollit anim id est labor\\n    \\n        *Acties:*\\n        \\n            esrg\\n            \\n            bebossing van het natuurlijke voetbal grasveld via een plantactie\\n            \\n            Groene inrichting van de aangrenzende percelen met hoogstambomen, hagen, houtkanten,…\\n            \\n            Recreatieve inrichting met infoborden, zitbanken, …\\n            \\n            Plaatsen van de speelelementen\\n            \\n            Afstemmen met betrokken partners\\n            \\n            Afgraven van de Woluwe-oevers\\n            \\n            Aanleg van het wandelpad in halfverharding\\n            \\n    #pagebreak()\\n    == LOKALE GEBIEDSDEAL DROOGTE 2.0\\n    *Categorie deelproject: Weiden*\\n\\n    Lorem ipsum dolor sit amet, consectetur adipiscing elit, sed do eiusmod tempor incididunt ut labore\\n    \\n        *Acties:*\\n        \\n             inventaris van alle verharde grachten in het Woluwe stroomgebied\\n            \\n            Ontharding en ingroenen van de Leuvensesteenweg\\n            \\n            Ontharding en ingroenen van de Boskantweg\\n            \\n            Ontharding Zwaluwstraat\\n            \\n            Groene inrichting Heirbaan\\n            \\n    #pagebreak()\\n    == WANDELKAART - ZAVENTEM\\n    *Categorie deelproject: Wouden*\\n\\n    Lorem ipsum dolor sit amet, consectetur adipiscing elit, sed do eiusmod tempor incididunt ut labore\\n    \\n        *Acties:*\\n        \\n            natuurgebieden aangelegd\\n            \\n            verbindingen geïnventariseerd\\n            \\n            De langste wandeling werd op terrein al aangeduid met bordjes\\n            \\n    #pagebreak()'"
      ]
     },
     "execution_count": 36,
     "metadata": {},
     "output_type": "execute_result"
    }
   ],
   "source": [
    "text"
   ]
  },
  {
   "cell_type": "code",
   "execution_count": 37,
   "metadata": {},
   "outputs": [],
   "source": [
    "with open(\"output.typ\", \"w\", encoding=\"utf-8\") as file:\n",
    "    file.write(text)"
   ]
  },
  {
   "cell_type": "code",
   "execution_count": 38,
   "metadata": {},
   "outputs": [],
   "source": [
    "import typst"
   ]
  },
  {
   "cell_type": "code",
   "execution_count": 39,
   "metadata": {},
   "outputs": [],
   "source": [
    "typst.compile(\"output.typ\", output=\"hello.pdf\")"
   ]
  }
 ],
 "metadata": {
  "kernelspec": {
   "display_name": "Python 3",
   "language": "python",
   "name": "python3"
  },
  "language_info": {
   "codemirror_mode": {
    "name": "ipython",
    "version": 3
   },
   "file_extension": ".py",
   "mimetype": "text/x-python",
   "name": "python",
   "nbconvert_exporter": "python",
   "pygments_lexer": "ipython3",
   "version": "3.13.0"
  }
 },
 "nbformat": 4,
 "nbformat_minor": 2
}
